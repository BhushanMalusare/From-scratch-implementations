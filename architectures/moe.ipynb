{
 "cells": [
  {
   "cell_type": "code",
   "execution_count": 1,
   "metadata": {},
   "outputs": [],
   "source": [
    "import torch\n",
    "import torch.nn as nn\n",
    "import torch.nn.functional as F"
   ]
  },
  {
   "cell_type": "markdown",
   "metadata": {},
   "source": [
    "## Expert Layer"
   ]
  },
  {
   "cell_type": "code",
   "execution_count": 2,
   "metadata": {},
   "outputs": [],
   "source": [
    "class Expert(nn.Module):\n",
    "    def __init__(self, in_size, h_size, o_size) -> None:\n",
    "        super().__init__()\n",
    "        self.in_size = in_size\n",
    "        self.h_size = h_size\n",
    "        self.o_size = o_size\n",
    "        self.fc1 = nn.Linear(in_size, h_size)\n",
    "        self.fc2 = nn.Linear(h_size, o_size)\n",
    "\n",
    "    def forward(self, x):\n",
    "        x = self.fc1(x)\n",
    "        x = self.fc2(x)\n",
    "        return F.gelu(x)"
   ]
  },
  {
   "cell_type": "markdown",
   "metadata": {},
   "source": [
    "## Gate Layer"
   ]
  },
  {
   "cell_type": "code",
   "execution_count": 3,
   "metadata": {},
   "outputs": [],
   "source": [
    "class Gate(nn.Module):\n",
    "    def __init__(self, in_size, h_size, n_experts) -> None:\n",
    "        super().__init__()\n",
    "        self.in_size = in_size\n",
    "        self.h_size = h_size\n",
    "        self.n_experts = n_experts\n",
    "        self.fc1 = nn.Linear(in_size, h_size, bias=False)\n",
    "        self.fc2 = nn.Linear(h_size, n_experts, bias=False)\n",
    "    \n",
    "    def forward(self, x):\n",
    "        x = self.fc1(x)\n",
    "        x = self.fc2(x)\n",
    "        x = F.gelu(x)\n",
    "        return F.softmax(x, dim=-1)"
   ]
  },
  {
   "cell_type": "markdown",
   "metadata": {},
   "source": [
    "## Dense MOE"
   ]
  },
  {
   "cell_type": "code",
   "execution_count": 4,
   "metadata": {},
   "outputs": [],
   "source": [
    "class DenseMOE(nn.Module):\n",
    "    def __init__(self, in_size, h_size, o_size, n_experts) -> None:\n",
    "        super().__init__()\n",
    "        self.in_size = in_size\n",
    "        self.h_size = h_size\n",
    "        self.o_size = o_size\n",
    "        self.n_experts = n_experts\n",
    "        self.experts = nn.ModuleList([Expert(self.in_size, self.h_size, self.o_size) for _ in range(self.n_experts)])\n",
    "        self.gate = Gate(in_size, h_size, n_experts)\n",
    "\n",
    "    def forward(self, x):\n",
    "        gate_probs = self.gate(x)\n",
    "        gate_probs = gate_probs.unsqueeze(-1)\n",
    "        expert_output = [expert(x) for expert in self.experts]\n",
    "        expert_output = torch.stack(expert_output, dim=-2)\n",
    "        weight_output = gate_probs * expert_output\n",
    "        return weight_output.sum(dim=-2)"
   ]
  },
  {
   "cell_type": "code",
   "execution_count": 5,
   "metadata": {},
   "outputs": [
    {
     "name": "stdout",
     "output_type": "stream",
     "text": [
      "torch.Size([2, 4, 16])\n"
     ]
    }
   ],
   "source": [
    "batch = 2\n",
    "seq_len = 4\n",
    "in_size = 16\n",
    "h_size = 64\n",
    "o_size = 16\n",
    "n_experts = 6\n",
    "sample = torch.randn(batch, seq_len, in_size)\n",
    "dense_model = DenseMOE(in_size, h_size, o_size, n_experts)\n",
    "final_out = dense_model(sample)\n",
    "print(final_out.shape)"
   ]
  },
  {
   "cell_type": "markdown",
   "metadata": {},
   "source": [
    "## Sparse MOE"
   ]
  },
  {
   "cell_type": "code",
   "execution_count": 59,
   "metadata": {},
   "outputs": [],
   "source": [
    "class SparseMOE(nn.Module):\n",
    "    def __init__(self, in_size, h_size, o_size, n_experts, top_k=1) -> None:\n",
    "        super().__init__()\n",
    "        self.in_size = in_size\n",
    "        self.h_size = h_size\n",
    "        self.o_size = o_size\n",
    "        self.n_experts = n_experts\n",
    "        self.top_k = top_k\n",
    "        self.experts = nn.ModuleList([Expert(self.in_size, self.h_size, self.o_size) for _ in range(self.n_experts)])\n",
    "        self.gate = Gate(self.in_size, self.h_size, self.n_experts)\n",
    "    \n",
    "    def forward(self, x):\n",
    "        gate_probs = self.gate(x)\n",
    "        token_probs, probs_idx = torch.topk(gate_probs, self.top_k, dim=-1)\n",
    "        output = torch.zeros(x.shape).unsqueeze(2).expand(-1, -1, self.top_k, -1)\n",
    "        for i in range(self.n_experts):\n",
    "            expert = self.experts[i]\n",
    "            mask = probs_idx == i\n",
    "            if mask.any():\n",
    "                token_indices = torch.where(mask)\n",
    "                expert_tokens = x[token_indices[0], token_indices[1]]\n",
    "                token_weights = token_probs[token_indices[0], token_indices[1], token_indices[2]].unsqueeze(-1)\n",
    "                expert_out = expert(expert_tokens)\n",
    "                processed_tokens = expert_out * token_weights\n",
    "                output[token_indices[0], token_indices[1], token_indices[2]] = processed_tokens\n",
    "                break\n",
    "        return torch.sum(output, dim=-2)"
   ]
  },
  {
   "cell_type": "code",
   "execution_count": 62,
   "metadata": {},
   "outputs": [
    {
     "data": {
      "text/plain": [
       "torch.Size([1, 4, 16])"
      ]
     },
     "execution_count": 62,
     "metadata": {},
     "output_type": "execute_result"
    }
   ],
   "source": [
    "batch = 1\n",
    "seq_len = 4\n",
    "in_size = 16\n",
    "h_size = 64\n",
    "o_size = 16\n",
    "n_experts = 6\n",
    "top_k = 1\n",
    "sample = torch.randn(batch, seq_len, in_size)\n",
    "sparse_model = SparseMOE(in_size, h_size, o_size, n_experts, top_k)\n",
    "out = sparse_model(sample)\n",
    "out.shape"
   ]
  },
  {
   "cell_type": "code",
   "execution_count": null,
   "metadata": {},
   "outputs": [],
   "source": []
  }
 ],
 "metadata": {
  "kernelspec": {
   "display_name": "venv",
   "language": "python",
   "name": "python3"
  },
  "language_info": {
   "codemirror_mode": {
    "name": "ipython",
    "version": 3
   },
   "file_extension": ".py",
   "mimetype": "text/x-python",
   "name": "python",
   "nbconvert_exporter": "python",
   "pygments_lexer": "ipython3",
   "version": "3.10.3"
  }
 },
 "nbformat": 4,
 "nbformat_minor": 2
}
